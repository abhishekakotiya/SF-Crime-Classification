{
 "cells": [
  {
   "cell_type": "code",
   "execution_count": 1,
   "metadata": {},
   "outputs": [],
   "source": [
    "import pandas as pd\n",
    "import numpy as np\n",
    "import matplotlib.pyplot as plt\n",
    "\n",
    "import math\n",
    "import os\n",
    "import pickle\n",
    "import random\n",
    "import sys\n",
    "import time\n",
    "from contextlib import suppress\n",
    "from datetime import datetime"
   ]
  },
  {
   "cell_type": "code",
   "execution_count": 2,
   "metadata": {},
   "outputs": [],
   "source": [
    "def transformX(dataset):\n",
    "  dataset.loc[:, 'DayOfWeek'] = np.array([time.strptime(dow, '%A').tm_wday for dow in dataset.loc[:, 'DayOfWeek']], dtype=np.float)\n",
    "  dataset.loc[:, 'Address'] = np.array([1 if 'block' in row else 0 for row in dataset.loc[:, 'Address']], dtype=np.float)\n",
    "  # Districts\n",
    "  districts = sorted(dataset.PdDistrict.unique())\n",
    "  for d in districts:\n",
    "    dataset.loc[:, d] = np.array([1 if d == x else 0 for x in dataset.loc[:, 'PdDistrict']], dtype=np.float)\n",
    "  # Date\n",
    "  datefmt = '%Y-%m-%d %H:%M:%S'\n",
    "  def transform_time(tm):\n",
    "    if tm.hour >= 0 and tm.hour <= 6:\n",
    "      return 0\n",
    "    elif tm.hour >= 6 and tm.hour <= 12:\n",
    "      return 1\n",
    "    elif tm.hour >= 12 and tm.hour <= 18:\n",
    "      return 2\n",
    "    return 3\n",
    "  dataset.loc[:, 'Year'] = np.array([datetime.strptime(row, datefmt).year for row in dataset.loc[:, 'Dates']], dtype=np.float)\n",
    "  dataset.loc[:, 'Month'] = np.array([datetime.strptime(row, datefmt).month for row in dataset.loc[:, 'Dates']], dtype=np.float)\n",
    "  dataset.loc[:, 'Day'] = np.array([datetime.strptime(row, datefmt).day for row in dataset.loc[:, 'Dates']], dtype=np.float)\n",
    "  dataset.loc[:, 'Hour'] = np.array([datetime.strptime(row, datefmt).time().hour for row in dataset.loc[:, 'Dates']], dtype=np.float)\n",
    "  dataset.loc[:, 'Minute'] = np.array([datetime.strptime(row, datefmt).time().minute for row in dataset.loc[:, 'Dates']], dtype=np.float)\n",
    "  dataset.loc[:, 'Period'] = np.array([transform_time(datetime.strptime(row, datefmt).time()) for row in dataset.loc[:, 'Dates']], dtype=np.float)\n",
    "  return dataset.drop(columns=['PdDistrict', 'Dates'])"
   ]
  },
  {
   "cell_type": "code",
   "execution_count": 3,
   "metadata": {},
   "outputs": [],
   "source": [
    "raw_train = pd.read_csv('train.csv')\n",
    "\n",
    "X_train = raw_train[['X', 'Y', 'DayOfWeek', 'Address', 'PdDistrict', 'Dates']]\n",
    "Y_train = raw_train['Category']\n",
    "del raw_train\n",
    "\n",
    "X_train = transformX(X_train)\n",
    "Y_labels = sorted(Y_train.unique())\n",
    "Y_train = np.array([Y_labels.index(cat) for cat in Y_train], dtype=np.float)\n"
   ]
  },
  {
   "cell_type": "code",
   "execution_count": 4,
   "metadata": {},
   "outputs": [],
   "source": [
    "raw_test = pd.read_csv('test.csv')\n",
    "X_test = raw_test[['X', 'Y', 'DayOfWeek', 'Address', 'PdDistrict', 'Dates']]\n",
    "del raw_test\n",
    "\n",
    "X_test = transformX(X_test)"
   ]
  },
  {
   "cell_type": "code",
   "execution_count": 5,
   "metadata": {},
   "outputs": [
    {
     "data": {
      "text/plain": [
       "RandomForestClassifier(bootstrap=True, class_weight=None, criterion='gini',\n",
       "            max_depth=None, max_features='auto', max_leaf_nodes=None,\n",
       "            min_impurity_decrease=0.0, min_impurity_split=None,\n",
       "            min_samples_leaf=1, min_samples_split=100,\n",
       "            min_weight_fraction_leaf=0.0, n_estimators=40, n_jobs=-1,\n",
       "            oob_score=False, random_state=None, verbose=0,\n",
       "            warm_start=False)"
      ]
     },
     "execution_count": 5,
     "metadata": {},
     "output_type": "execute_result"
    }
   ],
   "source": [
    "from sklearn.ensemble import RandomForestClassifier\n",
    "rfc = RandomForestClassifier(n_estimators=40,min_samples_split=100, n_jobs=-1 )\n",
    "rfc.fit(X_train, Y_train)"
   ]
  },
  {
   "cell_type": "code",
   "execution_count": 28,
   "metadata": {},
   "outputs": [],
   "source": [
    "y_pred_prob = rfc.predict_proba(X_test)"
   ]
  },
  {
   "cell_type": "code",
   "execution_count": 29,
   "metadata": {},
   "outputs": [],
   "source": [
    "predictions = pd.DataFrame(y_pred_prob, columns=Y_labels)\n",
    "predictions.index.name = 'Id'\n",
    "now = time.time()\n",
    "predictions.to_csv(\"predictions_{}.csv\".format(int(now)))\n"
   ]
  }
 ],
 "metadata": {
  "kernelspec": {
   "display_name": "Python 3",
   "language": "python",
   "name": "python3"
  },
  "language_info": {
   "codemirror_mode": {
    "name": "ipython",
    "version": 3
   },
   "file_extension": ".py",
   "mimetype": "text/x-python",
   "name": "python",
   "nbconvert_exporter": "python",
   "pygments_lexer": "ipython3",
   "version": "3.7.1"
  }
 },
 "nbformat": 4,
 "nbformat_minor": 2
}
